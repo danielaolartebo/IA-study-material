{
 "cells": [
  {
   "cell_type": "code",
   "execution_count": 1,
   "id": "a6b2d551",
   "metadata": {},
   "outputs": [],
   "source": [
    "from random import randint\n",
    "import math\n",
    "import numpy as np\n",
    "import matplotlib.pyplot as plt"
   ]
  },
  {
   "cell_type": "markdown",
   "id": "0edd9fc2",
   "metadata": {},
   "source": [
    "### Distancia Euclidiana"
   ]
  },
  {
   "cell_type": "code",
   "execution_count": 2,
   "id": "b8b764a7",
   "metadata": {},
   "outputs": [],
   "source": [
    "def euclidean_distance(a,b):\n",
    "    distance = math.sqrt(((a[0]-b[0])**2)+((a[1]-b[1])**2))\n",
    "    return distance"
   ]
  },
  {
   "cell_type": "markdown",
   "id": "bdcecd9b",
   "metadata": {},
   "source": [
    "### Datos"
   ]
  },
  {
   "cell_type": "markdown",
   "id": "e7a125b0",
   "metadata": {},
   "source": [
    "#### Opción 1: Datos fijos"
   ]
  },
  {
   "cell_type": "code",
   "execution_count": 3,
   "id": "2fef5cb7",
   "metadata": {},
   "outputs": [],
   "source": [
    "n_obs = 10\n",
    "n_atr = 2\n",
    "\n",
    "val_min = 0\n",
    "val_max = 10\n",
    "\n",
    "dataPoints = np.array([[6,1],[5,2],[5,3],[6,3],[7,2],[2,4],[1,5],[1,6],[2,6],[3,5],[3,6]])"
   ]
  },
  {
   "cell_type": "markdown",
   "id": "de1a6fec",
   "metadata": {},
   "source": [
    "#### Opción 2: Datos aleatorios"
   ]
  },
  {
   "cell_type": "code",
   "execution_count": 55,
   "id": "d29f7c9a",
   "metadata": {},
   "outputs": [],
   "source": [
    "n_obs = 40\n",
    "n_atr = 2\n",
    "\n",
    "val_min = 0\n",
    "val_max = 10\n",
    "\n",
    "dataPoints = np.random.randint(val_min, val_max,(n_obs,n_atr))\n",
    "#dataPoints = randint(val_min, val_max,(n_obs,n_atr))"
   ]
  },
  {
   "cell_type": "code",
   "execution_count": 56,
   "id": "f7f46e61",
   "metadata": {},
   "outputs": [
    {
     "data": {
      "text/plain": [
       "(40, 2)"
      ]
     },
     "execution_count": 56,
     "metadata": {},
     "output_type": "execute_result"
    }
   ],
   "source": [
    "dataPoints.shape"
   ]
  },
  {
   "cell_type": "code",
   "execution_count": 57,
   "id": "f215d474",
   "metadata": {
    "scrolled": false
   },
   "outputs": [
    {
     "data": {
      "text/plain": [
       "array([[2, 3],\n",
       "       [7, 0],\n",
       "       [3, 2],\n",
       "       [9, 8],\n",
       "       [9, 1],\n",
       "       [0, 1],\n",
       "       [3, 3],\n",
       "       [5, 6],\n",
       "       [7, 1],\n",
       "       [0, 2],\n",
       "       [7, 3],\n",
       "       [8, 6],\n",
       "       [2, 7],\n",
       "       [7, 6],\n",
       "       [6, 9],\n",
       "       [3, 5],\n",
       "       [8, 6],\n",
       "       [4, 8],\n",
       "       [2, 1],\n",
       "       [1, 6],\n",
       "       [1, 9],\n",
       "       [4, 2],\n",
       "       [4, 2],\n",
       "       [3, 5],\n",
       "       [5, 5],\n",
       "       [6, 6],\n",
       "       [6, 5],\n",
       "       [6, 7],\n",
       "       [7, 0],\n",
       "       [2, 4],\n",
       "       [2, 6],\n",
       "       [8, 2],\n",
       "       [2, 1],\n",
       "       [6, 4],\n",
       "       [6, 4],\n",
       "       [7, 8],\n",
       "       [9, 6],\n",
       "       [9, 3],\n",
       "       [1, 1],\n",
       "       [9, 1]])"
      ]
     },
     "execution_count": 57,
     "metadata": {},
     "output_type": "execute_result"
    }
   ],
   "source": [
    "dataPoints"
   ]
  },
  {
   "cell_type": "code",
   "execution_count": 58,
   "id": "8fb1807e",
   "metadata": {},
   "outputs": [
    {
     "data": {
      "image/png": "[encoded data removed]",
      "text/plain": [
       "<Figure size 432x288 with 1 Axes>"
      ]
     },
     "metadata": {
      "needs_background": "light"
     },
     "output_type": "display_data"
    }
   ],
   "source": [
    "plt.scatter(dataPoints[:, 0], dataPoints[:, 1])\n",
    "plt.show()"
   ]
  },
  {
   "cell_type": "markdown",
   "id": "0bdb61a1",
   "metadata": {},
   "source": [
    "### Paso 1: Inicializar de K Centroides\n",
    "\n",
    "En este caso la inicialización es aleatoria dentro del intervalo de variación de los datos."
   ]
  },
  {
   "cell_type": "code",
   "execution_count": 59,
   "id": "00c1b45e",
   "metadata": {},
   "outputs": [
    {
     "name": "stdout",
     "output_type": "stream",
     "text": [
      "Centroides:  [[10  6]\n",
      " [ 7  6]]\n"
     ]
    }
   ],
   "source": [
    "iteraciones = 0\n",
    "\n",
    "k = 2\n",
    "\n",
    "centroids = []\n",
    "\n",
    "for i in range(k):\n",
    "    x1 = randint(val_min,val_max)\n",
    "    x2 = randint(val_min,val_max)\n",
    "    centroids.append((x1,x2))\n",
    "\n",
    "centroids = np.array(centroids)\n",
    "\n",
    "print(\"Centroides: \",\n",
    "      centroids)"
   ]
  },
  {
   "cell_type": "code",
   "execution_count": 61,
   "id": "ac77d4a0",
   "metadata": {},
   "outputs": [
    {
     "data": {
      "image/png": "[encoded data removed]",
      "text/plain": [
       "<Figure size 432x288 with 1 Axes>"
      ]
     },
     "metadata": {
      "needs_background": "light"
     },
     "output_type": "display_data"
    }
   ],
   "source": [
    "color = ['b','r']\n",
    "plt.scatter(dataPoints[:, 0], dataPoints[:, 1])\n",
    "for i in range (len(centroids)):\n",
    "    plt.scatter(centroids[i, 0], centroids[i, 1],marker='x',c=color[i])\n",
    "plt.show()"
   ]
  },
  {
   "cell_type": "markdown",
   "id": "7b1d4365",
   "metadata": {},
   "source": [
    "### Paso 2: Asignar cada observación a un clúster de acuerdo al centroide más cercano"
   ]
  },
  {
   "cell_type": "code",
   "execution_count": 62,
   "id": "d2b3ed2d",
   "metadata": {
    "scrolled": false
   },
   "outputs": [
    {
     "name": "stdout",
     "output_type": "stream",
     "text": [
      "Point: 0 located in:  [2 3]\n",
      "Distance to centroid: 0 is  8.54400374531753\n",
      "Distance to centroid: 1 is  5.830951894845301\n",
      "The point 0 has been assigned to cluster 1\n",
      " \n",
      "Point: 1 located in:  [7 0]\n",
      "Distance to centroid: 0 is  6.708203932499369\n",
      "Distance to centroid: 1 is  6.0\n",
      "The point 1 has been assigned to cluster 1\n",
      " \n",
      "Point: 2 located in:  [3 2]\n",
      "Distance to centroid: 0 is  8.06225774829855\n",
      "Distance to centroid: 1 is  5.656854249492381\n",
      "The point 2 has been assigned to cluster 1\n",
      " \n",
      "Point: 3 located in:  [9 8]\n",
      "Distance to centroid: 0 is  2.23606797749979\n",
      "Distance to centroid: 1 is  2.8284271247461903\n",
      "The point 3 has been assigned to cluster 0\n",
      " \n",
      "Point: 4 located in:  [9 1]\n",
      "Distance to centroid: 0 is  5.0990195135927845\n",
      "Distance to centroid: 1 is  5.385164807134504\n",
      "The point 4 has been assigned to cluster 0\n",
      " \n",
      "Point: 5 located in:  [0 1]\n",
      "Distance to centroid: 0 is  11.180339887498949\n",
      "Distance to centroid: 1 is  8.602325267042627\n",
      "The point 5 has been assigned to cluster 1\n",
      " \n",
      "Point: 6 located in:  [3 3]\n",
      "Distance to centroid: 0 is  7.615773105863909\n",
      "Distance to centroid: 1 is  5.0\n",
      "The point 6 has been assigned to cluster 1\n",
      " \n",
      "Point: 7 located in:  [5 6]\n",
      "Distance to centroid: 0 is  5.0\n",
      "Distance to centroid: 1 is  2.0\n",
      "The point 7 has been assigned to cluster 1\n",
      " \n",
      "Point: 8 located in:  [7 1]\n",
      "Distance to centroid: 0 is  5.830951894845301\n",
      "Distance to centroid: 1 is  5.0\n",
      "The point 8 has been assigned to cluster 1\n",
      " \n",
      "Point: 9 located in:  [0 2]\n",
      "Distance to centroid: 0 is  10.770329614269007\n",
      "Distance to centroid: 1 is  8.06225774829855\n",
      "The point 9 has been assigned to cluster 1\n",
      " \n",
      "Point: 10 located in:  [7 3]\n",
      "Distance to centroid: 0 is  4.242640687119285\n",
      "Distance to centroid: 1 is  3.0\n",
      "The point 10 has been assigned to cluster 1\n",
      " \n",
      "Point: 11 located in:  [8 6]\n",
      "Distance to centroid: 0 is  2.0\n",
      "Distance to centroid: 1 is  1.0\n",
      "The point 11 has been assigned to cluster 1\n",
      " \n",
      "Point: 12 located in:  [2 7]\n",
      "Distance to centroid: 0 is  8.06225774829855\n",
      "Distance to centroid: 1 is  5.0990195135927845\n",
      "The point 12 has been assigned to cluster 1\n",
      " \n",
      "Point: 13 located in:  [7 6]\n",
      "Distance to centroid: 0 is  3.0\n",
      "Distance to centroid: 1 is  0.0\n",
      "The point 13 has been assigned to cluster 1\n",
      " \n",
      "Point: 14 located in:  [6 9]\n",
      "Distance to centroid: 0 is  5.0\n",
      "Distance to centroid: 1 is  3.1622776601683795\n",
      "The point 14 has been assigned to cluster 1\n",
      " \n",
      "Point: 15 located in:  [3 5]\n",
      "Distance to centroid: 0 is  7.0710678118654755\n",
      "Distance to centroid: 1 is  4.123105625617661\n",
      "The point 15 has been assigned to cluster 1\n",
      " \n",
      "Point: 16 located in:  [8 6]\n",
      "Distance to centroid: 0 is  2.0\n",
      "Distance to centroid: 1 is  1.0\n",
      "The point 16 has been assigned to cluster 1\n",
      " \n",
      "Point: 17 located in:  [4 8]\n",
      "Distance to centroid: 0 is  6.324555320336759\n",
      "Distance to centroid: 1 is  3.605551275463989\n",
      "The point 17 has been assigned to cluster 1\n",
      " \n",
      "Point: 18 located in:  [2 1]\n",
      "Distance to centroid: 0 is  9.433981132056603\n",
      "Distance to centroid: 1 is  7.0710678118654755\n",
      "The point 18 has been assigned to cluster 1\n",
      " \n",
      "Point: 19 located in:  [1 6]\n",
      "Distance to centroid: 0 is  9.0\n",
      "Distance to centroid: 1 is  6.0\n",
      "The point 19 has been assigned to cluster 1\n",
      " \n",
      "Point: 20 located in:  [1 9]\n",
      "Distance to centroid: 0 is  9.486832980505138\n",
      "Distance to centroid: 1 is  6.708203932499369\n",
      "The point 20 has been assigned to cluster 1\n",
      " \n",
      "Point: 21 located in:  [4 2]\n",
      "Distance to centroid: 0 is  7.211102550927978\n",
      "Distance to centroid: 1 is  5.0\n",
      "The point 21 has been assigned to cluster 1\n",
      " \n",
      "Point: 22 located in:  [4 2]\n",
      "Distance to centroid: 0 is  7.211102550927978\n",
      "Distance to centroid: 1 is  5.0\n",
      "The point 22 has been assigned to cluster 1\n",
      " \n",
      "Point: 23 located in:  [3 5]\n",
      "Distance to centroid: 0 is  7.0710678118654755\n",
      "Distance to centroid: 1 is  4.123105625617661\n",
      "The point 23 has been assigned to cluster 1\n",
      " \n",
      "Point: 24 located in:  [5 5]\n",
      "Distance to centroid: 0 is  5.0990195135927845\n",
      "Distance to centroid: 1 is  2.23606797749979\n",
      "The point 24 has been assigned to cluster 1\n",
      " \n",
      "Point: 25 located in:  [6 6]\n",
      "Distance to centroid: 0 is  4.0\n",
      "Distance to centroid: 1 is  1.0\n",
      "The point 25 has been assigned to cluster 1\n",
      " \n",
      "Point: 26 located in:  [6 5]\n",
      "Distance to centroid: 0 is  4.123105625617661\n",
      "Distance to centroid: 1 is  1.4142135623730951\n",
      "The point 26 has been assigned to cluster 1\n",
      " \n",
      "Point: 27 located in:  [6 7]\n",
      "Distance to centroid: 0 is  4.123105625617661\n",
      "Distance to centroid: 1 is  1.4142135623730951\n",
      "The point 27 has been assigned to cluster 1\n",
      " \n",
      "Point: 28 located in:  [7 0]\n",
      "Distance to centroid: 0 is  6.708203932499369\n",
      "Distance to centroid: 1 is  6.0\n",
      "The point 28 has been assigned to cluster 1\n",
      " \n",
      "Point: 29 located in:  [2 4]\n",
      "Distance to centroid: 0 is  8.246211251235321\n",
      "Distance to centroid: 1 is  5.385164807134504\n",
      "The point 29 has been assigned to cluster 1\n",
      " \n",
      "Point: 30 located in:  [2 6]\n",
      "Distance to centroid: 0 is  8.0\n",
      "Distance to centroid: 1 is  5.0\n",
      "The point 30 has been assigned to cluster 1\n",
      " \n",
      "Point: 31 located in:  [8 2]\n",
      "Distance to centroid: 0 is  4.47213595499958\n",
      "Distance to centroid: 1 is  4.123105625617661\n",
      "The point 31 has been assigned to cluster 1\n",
      " \n",
      "Point: 32 located in:  [2 1]\n",
      "Distance to centroid: 0 is  9.433981132056603\n",
      "Distance to centroid: 1 is  7.0710678118654755\n",
      "The point 32 has been assigned to cluster 1\n",
      " \n",
      "Point: 33 located in:  [6 4]\n",
      "Distance to centroid: 0 is  4.47213595499958\n",
      "Distance to centroid: 1 is  2.23606797749979\n",
      "The point 33 has been assigned to cluster 1\n",
      " \n",
      "Point: 34 located in:  [6 4]\n",
      "Distance to centroid: 0 is  4.47213595499958\n",
      "Distance to centroid: 1 is  2.23606797749979\n",
      "The point 34 has been assigned to cluster 1\n",
      " \n",
      "Point: 35 located in:  [7 8]\n",
      "Distance to centroid: 0 is  3.605551275463989\n",
      "Distance to centroid: 1 is  2.0\n",
      "The point 35 has been assigned to cluster 1\n",
      " \n",
      "Point: 36 located in:  [9 6]\n",
      "Distance to centroid: 0 is  1.0\n",
      "Distance to centroid: 1 is  2.0\n",
      "The point 36 has been assigned to cluster 0\n",
      " \n",
      "Point: 37 located in:  [9 3]\n",
      "Distance to centroid: 0 is  3.1622776601683795\n",
      "Distance to centroid: 1 is  3.605551275463989\n",
      "The point 37 has been assigned to cluster 0\n",
      " \n",
      "Point: 38 located in:  [1 1]\n",
      "Distance to centroid: 0 is  10.295630140987\n",
      "Distance to centroid: 1 is  7.810249675906654\n",
      "The point 38 has been assigned to cluster 1\n",
      " \n",
      "Point: 39 located in:  [9 1]\n",
      "Distance to centroid: 0 is  5.0990195135927845\n",
      "Distance to centroid: 1 is  5.385164807134504\n",
      "The point 39 has been assigned to cluster 0\n",
      " \n",
      "[[ 0  1]\n",
      " [ 1  1]\n",
      " [ 2  1]\n",
      " [ 3  0]\n",
      " [ 4  0]\n",
      " [ 5  1]\n",
      " [ 6  1]\n",
      " [ 7  1]\n",
      " [ 8  1]\n",
      " [ 9  1]\n",
      " [10  1]\n",
      " [11  1]\n",
      " [12  1]\n",
      " [13  1]\n",
      " [14  1]\n",
      " [15  1]\n",
      " [16  1]\n",
      " [17  1]\n",
      " [18  1]\n",
      " [19  1]\n",
      " [20  1]\n",
      " [21  1]\n",
      " [22  1]\n",
      " [23  1]\n",
      " [24  1]\n",
      " [25  1]\n",
      " [26  1]\n",
      " [27  1]\n",
      " [28  1]\n",
      " [29  1]\n",
      " [30  1]\n",
      " [31  1]\n",
      " [32  1]\n",
      " [33  1]\n",
      " [34  1]\n",
      " [35  1]\n",
      " [36  0]\n",
      " [37  0]\n",
      " [38  1]\n",
      " [39  0]]\n"
     ]
    }
   ],
   "source": [
    "clusters = []\n",
    "n_obs, n_atr = dataPoints.shape\n",
    "\n",
    "iteraciones = iteraciones + 1\n",
    "\n",
    "for i in range(n_obs):\n",
    "    point = dataPoints[i,:]\n",
    "    print(\"Point: \" + str(i) + \" located in: \" , point)\n",
    "    distance=[]\n",
    "    for j in range (len(centroids)):\n",
    "        distance.append(euclidean_distance(point,centroids[j]))\n",
    "        print(\"Distance to centroid: \" + str (j) + \" is \", distance[j])\n",
    "    #input(\"The Distance to each centroid was calculated (Press Enter to continue)\")\n",
    "    #print(np.amin(distance, axis=0))\n",
    "    d_min = np.amin(distance)\n",
    "    aux = np.where(distance == d_min)\n",
    "    c = aux[0][0]\n",
    "    clusters.append([i,c])\n",
    "    print(\"The point \" + str(i) + \" has been assigned to cluster \" + str(c))\n",
    "    print(\" \")\n",
    "\n",
    "clusters = np.array(clusters)\n",
    "print(clusters)"
   ]
  },
  {
   "cell_type": "code",
   "execution_count": 63,
   "id": "4e2f4853",
   "metadata": {},
   "outputs": [
    {
     "data": {
      "image/png": "[encoded data removed]",
      "text/plain": [
       "<Figure size 432x288 with 1 Axes>"
      ]
     },
     "metadata": {
      "needs_background": "light"
     },
     "output_type": "display_data"
    }
   ],
   "source": [
    "color = ['b','r']\n",
    "for i in range (len(dataPoints)):\n",
    "    plt.scatter(dataPoints[i, 0], dataPoints[i, 1], marker='o', c = color[clusters[i,1]])\n",
    "for i in range (len(centroids)):\n",
    "    plt.scatter(centroids[i, 0], centroids[i, 1],marker='x',c=color[i])\n",
    "plt.show()"
   ]
  },
  {
   "cell_type": "markdown",
   "id": "d18a9202",
   "metadata": {},
   "source": [
    "### Paso 3: Calcular los nuevos centroides, sacando el promedio de las observaciones de cada clúster"
   ]
  },
  {
   "cell_type": "code",
   "execution_count": 64,
   "id": "ba9e8090",
   "metadata": {
    "scrolled": true
   },
   "outputs": [
    {
     "name": "stdout",
     "output_type": "stream",
     "text": [
      "[[9.         3.8       ]\n",
      " [4.31428571 4.17142857]]\n"
     ]
    }
   ],
   "source": [
    "newCentroids = []\n",
    "for i in range (k):\n",
    "    dataCluster = []\n",
    "\n",
    "    for j in range (len(dataPoints)):\n",
    "        if (clusters[j,1]==i):\n",
    "            dataCluster.append(dataPoints[j,:])\n",
    "    #print(dataCluster)\n",
    "    dataCluster = np.array(dataCluster)\n",
    "    newCentroids.append(np.mean(dataCluster, axis=0))\n",
    "\n",
    "newCentroids = np.array(newCentroids)\n",
    "print(newCentroids)"
   ]
  },
  {
   "cell_type": "markdown",
   "id": "e1eca239",
   "metadata": {},
   "source": [
    "### Paso 4: Evaluar si se ha logrado la convergencia (los centroides no se han movido)"
   ]
  },
  {
   "cell_type": "code",
   "execution_count": 66,
   "id": "5a9e880b",
   "metadata": {},
   "outputs": [
    {
     "name": "stdout",
     "output_type": "stream",
     "text": [
      "Difference is:  0.0\n",
      "KMEANS HAS ENDED AFTER 1 ITERATIONS\n",
      "Final centroids are:  [[9.         3.8       ]\n",
      " [4.31428571 4.17142857]]\n"
     ]
    }
   ],
   "source": [
    "oldCentroids = centroids.copy()\n",
    "difCentroids = []\n",
    "epsilon = 0\n",
    "\n",
    "for i in range (k):\n",
    "    difCentroids.append(euclidean_distance(oldCentroids[i],newCentroids[i]))\n",
    "\n",
    "dif_max = np.amax(difCentroids)\n",
    "\n",
    "print(\"Difference is: \", dif_max)\n",
    "\n",
    "if ( -epsilon <= dif_max <= epsilon):\n",
    "    print(\"KMEANS HAS ENDED AFTER \" + str(iteraciones) + \" ITERATIONS\")\n",
    "    centroids = newCentroids.copy()\n",
    "    print(\"Final centroids are: \", centroids)\n",
    "else:\n",
    "    centroids = newCentroids.copy()\n",
    "    print(\"NEED TO MAKE ANOTHER ITERATION \")"
   ]
  },
  {
   "cell_type": "code",
   "execution_count": 67,
   "id": "ec24d916",
   "metadata": {},
   "outputs": [
    {
     "data": {
      "image/png": "[encoded data removed]",
      "text/plain": [
       "<Figure size 432x288 with 1 Axes>"
      ]
     },
     "metadata": {
      "needs_background": "light"
     },
     "output_type": "display_data"
    }
   ],
   "source": [
    "color = ['b','r']\n",
    "for i in range (len(dataPoints)):\n",
    "    plt.scatter(dataPoints[i, 0], dataPoints[i, 1], marker='o', c = color[clusters[i,1]])\n",
    "for i in range (len(centroids)):\n",
    "    plt.scatter(centroids[i, 0], centroids[i, 1],marker='x',c=color[i])\n",
    "plt.show()"
   ]
  },
  {
   "cell_type": "code",
   "execution_count": null,
   "id": "99e0e2d9",
   "metadata": {},
   "outputs": [],
   "source": []
  },
  {
   "cell_type": "code",
   "execution_count": 68,
   "id": "1c042e0f",
   "metadata": {},
   "outputs": [],
   "source": [
    "from sklearn.cluster import KMeans"
   ]
  },
  {
   "cell_type": "code",
   "execution_count": 69,
   "id": "b7e0ef91",
   "metadata": {},
   "outputs": [
    {
     "name": "stdout",
     "output_type": "stream",
     "text": [
      "Initialization complete\n",
      "Iteration 0, inertia 361.0\n",
      "Iteration 1, inertia 328.82864450127875\n",
      "Converged at iteration 1: strict convergence.\n",
      "Initialization complete\n",
      "Iteration 0, inertia 423.0\n",
      "Iteration 1, inertia 377.05\n",
      "Iteration 2, inertia 341.15271111111105\n",
      "Iteration 3, inertia 328.82864450127875\n",
      "Converged at iteration 3: strict convergence.\n",
      "Initialization complete\n",
      "Iteration 0, inertia 405.0\n",
      "Iteration 1, inertia 372.9071354940302\n",
      "Iteration 2, inertia 351.69909275841997\n",
      "Iteration 3, inertia 332.76500000000004\n",
      "Iteration 4, inertia 329.52020202020196\n",
      "Converged at iteration 4: strict convergence.\n",
      "Initialization complete\n",
      "Iteration 0, inertia 586.0\n",
      "Iteration 1, inertia 389.38671986320884\n",
      "Iteration 2, inertia 372.9071354940302\n",
      "Iteration 3, inertia 351.69909275841997\n",
      "Iteration 4, inertia 332.76500000000004\n",
      "Iteration 5, inertia 329.52020202020196\n",
      "Converged at iteration 5: strict convergence.\n",
      "Initialization complete\n",
      "Iteration 0, inertia 521.0\n",
      "Iteration 1, inertia 391.0022222222224\n",
      "Iteration 2, inertia 339.0888429752066\n",
      "Iteration 3, inertia 330.24006758751517\n",
      "Iteration 4, inertia 329.52020202020196\n",
      "Converged at iteration 4: strict convergence.\n",
      "Initialization complete\n",
      "Iteration 0, inertia 560.0\n",
      "Iteration 1, inertia 351.69909275841997\n",
      "Iteration 2, inertia 332.76500000000004\n",
      "Iteration 3, inertia 329.52020202020196\n",
      "Converged at iteration 3: strict convergence.\n",
      "Initialization complete\n",
      "Iteration 0, inertia 450.0\n",
      "Iteration 1, inertia 382.4855795788851\n",
      "Iteration 2, inertia 356.36928271686105\n",
      "Iteration 3, inertia 328.82864450127875\n",
      "Converged at iteration 3: strict convergence.\n",
      "Initialization complete\n",
      "Iteration 0, inertia 423.0\n",
      "Iteration 1, inertia 370.2733843537414\n",
      "Iteration 2, inertia 341.15271111111105\n",
      "Iteration 3, inertia 328.82864450127875\n",
      "Converged at iteration 3: strict convergence.\n",
      "Initialization complete\n",
      "Iteration 0, inertia 538.0\n",
      "Iteration 1, inertia 359.7293973744286\n",
      "Iteration 2, inertia 340.1218836565097\n",
      "Iteration 3, inertia 328.82864450127875\n",
      "Converged at iteration 3: strict convergence.\n",
      "Initialization complete\n",
      "Iteration 0, inertia 422.0\n",
      "Iteration 1, inertia 378.3668963725944\n",
      "Iteration 2, inertia 375.99182222222225\n",
      "Iteration 3, inertia 368.0720495025543\n",
      "Iteration 4, inertia 364.9025354555657\n",
      "Iteration 5, inertia 359.18295739348366\n",
      "Iteration 6, inertia 340.1218836565097\n",
      "Iteration 7, inertia 328.82864450127875\n",
      "Converged at iteration 7: strict convergence.\n",
      "[[2.05882353 3.52941176]\n",
      " [7.         4.56521739]]\n"
     ]
    }
   ],
   "source": [
    "kmeans = KMeans(n_clusters=k, random_state=0, verbose=1).fit(dataPoints)\n",
    "print(kmeans.cluster_centers_)"
   ]
  },
  {
   "cell_type": "code",
   "execution_count": 70,
   "id": "093e218d",
   "metadata": {},
   "outputs": [
    {
     "name": "stdout",
     "output_type": "stream",
     "text": [
      "[[2.05882353 3.52941176]\n",
      " [7.         4.56521739]]\n"
     ]
    }
   ],
   "source": [
    "c = kmeans.cluster_centers_\n",
    "print(c)"
   ]
  },
  {
   "cell_type": "code",
   "execution_count": 71,
   "id": "385ae797",
   "metadata": {},
   "outputs": [
    {
     "data": {
      "text/plain": [
       "array([0, 1, 0, 1, 1, 0, 0, 1, 1, 0, 1, 1, 0, 1, 1, 0, 1, 1, 0, 0, 0, 0,\n",
       "       0, 0, 1, 1, 1, 1, 1, 0, 0, 1, 0, 1, 1, 1, 1, 1, 0, 1])"
      ]
     },
     "execution_count": 71,
     "metadata": {},
     "output_type": "execute_result"
    }
   ],
   "source": [
    "kmeans.labels_"
   ]
  },
  {
   "cell_type": "code",
   "execution_count": 72,
   "id": "e6f50198",
   "metadata": {},
   "outputs": [
    {
     "data": {
      "image/png": "[encoded data removed]",
      "text/plain": [
       "<Figure size 432x288 with 1 Axes>"
      ]
     },
     "metadata": {
      "needs_background": "light"
     },
     "output_type": "display_data"
    }
   ],
   "source": [
    "color = ['r','b']\n",
    "for i in range (len(dataPoints)):\n",
    "    plt.scatter(dataPoints[i, 0], dataPoints[i, 1], marker='o', c = color[kmeans.labels_[i]])\n",
    "for i in range (len(c)):\n",
    "    plt.scatter(c[i, 0], c[i, 1],marker='x',c=color[i])\n",
    "plt.show()"
   ]
  },
  {
   "cell_type": "code",
   "execution_count": null,
   "id": "982855ae",
   "metadata": {},
   "outputs": [],
   "source": []
  }
 ],
 "metadata": {
  "kernelspec": {
   "display_name": "Python 3 (ipykernel)",
   "language": "python",
   "name": "python3"
  },
  "language_info": {
   "codemirror_mode": {
    "name": "ipython",
    "version": 3
   },
   "file_extension": ".py",
   "mimetype": "text/x-python",
   "name": "python",
   "nbconvert_exporter": "python",
   "pygments_lexer": "ipython3",
   "version": "3.9.7"
  }
 },
 "nbformat": 4,
 "nbformat_minor": 5
}
